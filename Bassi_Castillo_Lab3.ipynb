{
 "cells": [
  {
   "cell_type": "markdown",
   "metadata": {},
   "source": [
    "<img src=\"img/usmlogo.png\" style=\"float:right;height:85px\">\n",
    "<img src=\"img/dilogo.png\" style=\"float:left;height:90px\">\n",
    "<center>\n",
    "    <h1> Laboratorio 3 </h1>\n",
    "    <h2> Profesor: Ricardo Ñanculef </h2>\n",
    "    <h3> Ayudante: Gabriel Ortega </h3>\n",
    "    <h4> Renato Bassi Castillo ; 201773521-K ; Malla Nueva </h4>\n",
    "    <h4> Joaquín Castillo Tapia ; 201773520-1 ; Malla Nueva </h4>\n",
    "    <center><h4>Julio  2019</h4></center>\n",
    "</center> \n",
    "\n"
   ]
  },
  {
   "cell_type": "code",
   "execution_count": 1,
   "metadata": {},
   "outputs": [],
   "source": [
    "import matplotlib.pyplot as plt\n",
    "import numpy as np\n",
    "import pandas as pd\n",
    "import seaborn as sns \n",
    "sns.set()\n",
    "%matplotlib inline "
   ]
  },
  {
   "cell_type": "markdown",
   "metadata": {},
   "source": [
    "## 1. LDA (40p)\n",
    "\n",
    "Es de mucho interés hoy en día el hecho de poder construir un clasificador que pueda inferir reglas a partir de los datos para poder predecir a futuro, en esta sección trabajará con una versión simplificada del dataset del titanic (data_titanic.csv), la que contiene 3 columnas:\n",
    "\n",
    "* Age: la edad del pasajero\n",
    "* Fare: el precio del boleto\n",
    "* Survived: si sobrevivió a la tragedia o no\n",
    "\n",
    "(Si, estamos en el ámbito multivariado ahora)\n",
    "\n",
    "El clasificador, en breves palabras, intenta maximizar $P(Y=survived|X=age,fare)$ asumiendo que los datos ($X$) provienen de una distribución Gaussiana Multivariada. Se espera que usted sea capaz de obtener los máximos verosímiles de los parámetros de esta distribución para poder construir su clasificador **a mano**.\n",
    "\n",
    ">a) Construya un clasificador LDA que permita distinguir si un pasajero sobrevive o no dado su edad y precio del ticket. *Recomendación: Puede separar una cantidad pequeña de datos para utilizarlos para probar su clasificador, es muy importante que si hace esto, estos datos no sean utilizados en la construcción del clasificador* \n",
    "\n",
    "Cualquier uso de las funciones provistas por los lenguajes que implementen LDA implica puntaje 0 en esta sección **sin excepción**.\n",
    "\n",
    "Esta pregunta es un poco extensa por lo que se recomienda leer bien el material provisto (mas abajo) y los libros guías del curso. No es necesario que responda todo de una, puede ir por partes, es más, esto es recomendable porque así puede ir ganando puntaje y no jugarse todo en un \"funciona/no funciona\" recuerde explicar bien su razonamiento.\n",
    "\n",
    "Si se complica mucho intente el caso univariado primero (fare vs survived ó age vs survived), si solamente presenta el univariado podrá optar a solamente 10 puntos del total (siempre y cuando esté bien).\n",
    "\n",
    "## Desarrollo\n",
    "\n",
    "Lo primero es extraer los datos a utilizar del archivo entregado:"
   ]
  },
  {
   "cell_type": "code",
   "execution_count": 129,
   "metadata": {},
   "outputs": [],
   "source": [
    "dataset = pd.read_csv('titanic.csv')\n",
    "dataset = dataset[pd.notnull(dataset['Age'])]\n",
    "X1 = dataset.iloc[:, 5].values\n",
    "X2 = dataset.iloc[:, 9].values\n",
    "y = dataset.iloc[:, 1].values\n",
    "\n",
    "LSx=[]\n",
    "LSy=[]\n",
    "LS=[]\n",
    "LMx=[]\n",
    "LMy=[]\n",
    "LM=[]\n",
    "for i in range(len(y)):\n",
    "    if y[i] == 1:\n",
    "        LSx.append(X1[i])\n",
    "        LSy.append(X2[i])\n",
    "        LS.append([[X1[i],X2[i]]])\n",
    "    else:\n",
    "        LMx.append(X1[i])\n",
    "        LMy.append(X2[i])\n",
    "        LM.append([[X1[i],X2[i]]])"
   ]
  },
  {
   "cell_type": "markdown",
   "metadata": {},
   "source": [
    "Con los datos extraidos construimos dos histogramas para observar de mejor manera la relación individual de cada variable.\n",
    "\n",
    "Histograma de Sobrevivencia según la edad:"
   ]
  },
  {
   "cell_type": "code",
   "execution_count": 174,
   "metadata": {},
   "outputs": [
    {
     "data": {
      "image/png": "[encoded data removed]",
      "text/plain": [
       "<Figure size 432x288 with 1 Axes>"
      ]
     },
     "metadata": {
      "needs_background": "light"
     },
     "output_type": "display_data"
    }
   ],
   "source": [
    "plt.hist(LMx,bins = 10, range = (0,80),color=\"red\",alpha=0.5,label=\"Muertos\")\n",
    "plt.hist(LSx,bins = 10, range = (0,80),color=\"green\",alpha=0.5,label=\"Sobrevivientes\")\n",
    "plt.legend(loc='best')\n",
    "plt.xlabel(\"edad\")\n",
    "plt.ylabel(\"cantidad\")\n",
    "plt.show()"
   ]
  },
  {
   "cell_type": "markdown",
   "metadata": {},
   "source": [
    "Histograma de Sobrevivencia según el precio del boleto:"
   ]
  },
  {
   "cell_type": "code",
   "execution_count": 175,
   "metadata": {},
   "outputs": [
    {
     "data": {
      "image/png": "[encoded data removed]",
      "text/plain": [
       "<Figure size 432x288 with 1 Axes>"
      ]
     },
     "metadata": {
      "needs_background": "light"
     },
     "output_type": "display_data"
    }
   ],
   "source": [
    "plt.hist(LMy,bins = 15, range = (0,600),color=\"red\",alpha=0.5,label=\"Muertos\")\n",
    "plt.hist(LSy,bins = 15, range = (0,600),color=\"green\",alpha=0.5,label=\"Sobrevivientes\")\n",
    "plt.legend(loc='best')\n",
    "plt.xlabel(\"precio del boleto\")\n",
    "plt.ylabel(\"cantidad\")\n",
    "plt.show()"
   ]
  },
  {
   "cell_type": "markdown",
   "metadata": {},
   "source": [
    "Separamos los datos en dos, para entrenamiento y posterior testeo."
   ]
  },
  {
   "cell_type": "code",
   "execution_count": 177,
   "metadata": {},
   "outputs": [],
   "source": [
    "LS_train = LS[:int(len(LS)/2)]\n",
    "LM_train = LM[:int(len(LM)/2)]\n",
    "LS_test = LS[int(len(LS)/2):]\n",
    "LM_test = LS[int(len(LM)/2):]"
   ]
  },
  {
   "cell_type": "markdown",
   "metadata": {},
   "source": [
    "Calculamos los vectores de media aritmética para sobrevivientes y muertos:"
   ]
  },
  {
   "cell_type": "code",
   "execution_count": 196,
   "metadata": {},
   "outputs": [],
   "source": [
    "mu11 = np.average(LSx[:int(len(LS)/2)])\n",
    "mu12 = np.average(LSy[:int(len(LS)/2)])\n",
    "mu01 = np.average(LMx[:int(len(LS)/2)])\n",
    "mu02 = np.average(LMy[:int(len(LS)/2)])\n",
    "\n",
    "mu1 = [[mu11,mu12]]\n",
    "mu0 = [[mu01,mu02]]"
   ]
  },
  {
   "cell_type": "markdown",
   "metadata": {},
   "source": [
    "Vector de media aritmética de sobreviviencia:"
   ]
  },
  {
   "cell_type": "code",
   "execution_count": 193,
   "metadata": {},
   "outputs": [
    {
     "name": "stdout",
     "output_type": "stream",
     "text": [
      "[[26.77413793103448, 48.47614896551725]]\n"
     ]
    }
   ],
   "source": [
    "print(mu1)"
   ]
  },
  {
   "cell_type": "markdown",
   "metadata": {},
   "source": [
    "Vector de media aritmética de muerte:"
   ]
  },
  {
   "cell_type": "code",
   "execution_count": 197,
   "metadata": {},
   "outputs": [
    {
     "name": "stdout",
     "output_type": "stream",
     "text": [
      "[[30.56896551724138, 25.34649379310345]]\n"
     ]
    }
   ],
   "source": [
    "print(mu0)"
   ]
  },
  {
   "cell_type": "markdown",
   "metadata": {},
   "source": [
    "A continuación se calculan las matrices de covarianza, con clases y entre clases. Para ello se siguen las siguientes fórmulas:\n",
    "\n",
    "Para la covarianza conclases:\n",
    "\n",
    "\n",
    "\\begin{aligned}\n",
    "S_w = {\\sum_{i=1}^{c}}{S_i}\n",
    "\\end{aligned}\n",
    "\n",
    "donde:\n",
    "\n",
    "\\begin{aligned}\n",
    "S_i = {\\sum_{x \\epsilon D_i}^{n}}{(x-m_i)}{(x-m_i)}^{T}\n",
    "\\end{aligned}\n",
    "\n",
    "Para la covarianza entre clases:\n",
    "\n",
    "\\begin{aligned}\n",
    "S_b = {(m_2-m_1)}{(m_2-m_1)}^{T}\n",
    "\\end{aligned}"
   ]
  },
  {
   "cell_type": "code",
   "execution_count": 156,
   "metadata": {},
   "outputs": [],
   "source": [
    "def Si(L,mu):\n",
    "    mu=np.array(mu)\n",
    "    r = [[0.0,0.0],[0.0,0.0]]\n",
    "    r = np.array(r)\n",
    "    for i in L:\n",
    "        t = np.array(i)\n",
    "        x = t - mu\n",
    "        xT = x.transpose()\n",
    "        r+=(x*xT)\n",
    "    return r"
   ]
  },
  {
   "cell_type": "code",
   "execution_count": 157,
   "metadata": {},
   "outputs": [],
   "source": [
    "def Sb(mu1,mu2):\n",
    "    m1 = np.array(mu1)\n",
    "    m2= np.array(mu2)\n",
    "    x = m2-m1\n",
    "    xT = x.transpose()\n",
    "    return x*xT "
   ]
  },
  {
   "cell_type": "markdown",
   "metadata": {},
   "source": [
    "Matriz de covarianza con clases:"
   ]
  },
  {
   "cell_type": "code",
   "execution_count": 158,
   "metadata": {
    "scrolled": true
   },
   "outputs": [
    {
     "name": "stdout",
     "output_type": "stream",
     "text": [
      "[[ 149559.44836245   64005.45388878]\n",
      " [  64005.45388878 1853082.01728879]]\n"
     ]
    }
   ],
   "source": [
    "Sw = Si(LS,mu1)+Si(LM,mu0)\n",
    "print(Sw)"
   ]
  },
  {
   "cell_type": "markdown",
   "metadata": {},
   "source": [
    "Matriz de covarianza entre clases:"
   ]
  },
  {
   "cell_type": "code",
   "execution_count": 159,
   "metadata": {},
   "outputs": [
    {
     "name": "stdout",
     "output_type": "stream",
     "text": [
      "[[  5.20975873 -65.91316103]\n",
      " [-65.91316103 833.92437602]]\n"
     ]
    }
   ],
   "source": [
    "Sb = Sb(mu1,mu0)\n",
    "print(Sb)"
   ]
  },
  {
   "cell_type": "markdown",
   "metadata": {},
   "source": [
    "Luego se buscan los vectores y valores propios para dar solución a la siguiente ecuación:\n",
    "\n",
    "\\begin{aligned}\n",
    "A = S_w^{-1}S_b\n",
    "\\end{aligned}\n",
    "    \n",
    "Donde $Av=\\lambda v$ , $\\lambda$ son los valores propios y $v$ son los vectores propios."
   ]
  },
  {
   "cell_type": "code",
   "execution_count": null,
   "metadata": {},
   "outputs": [],
   "source": [
    "vr_pro, vc_pro = np.linalg.eig(np.linalg.inv(Sw).dot(Sb))\n",
    "\n",
    "for i in range(len(eig_vals)):\n",
    "    vc_pro_sc = vc_pro[:,i].reshape(2,1)\n",
    "    print('\\nVector Propio {}: \\n{}'.format(i+1,  vc_pro_sc.real))\n",
    "    print('Valor Propio {:}: {:.2e}'.format(i+1, vr_pro[i].real))"
   ]
  },
  {
   "cell_type": "markdown",
   "metadata": {},
   "source": [
    "Valores propios ordenados de Mayor a Menor:"
   ]
  },
  {
   "cell_type": "code",
   "execution_count": 165,
   "metadata": {},
   "outputs": [
    {
     "name": "stdout",
     "output_type": "stream",
     "text": [
      "0.0005230301710079941\n",
      "0.0\n"
     ]
    }
   ],
   "source": [
    "pr_pro = [(np.abs(vr_pro[i]), vc_pro[:,i]) for i in range(len(vr_pro))]\n",
    "pr_pro = sorted(pr_pro, key=lambda k: k[0], reverse=True)\n",
    "for i in pr_pro:\n",
    "    print(i[0])"
   ]
  },
  {
   "cell_type": "markdown",
   "metadata": {},
   "source": [
    "Se calcula la exactitud de cada valor propio encontrado:"
   ]
  },
  {
   "cell_type": "code",
   "execution_count": 200,
   "metadata": {},
   "outputs": [
    {
     "name": "stdout",
     "output_type": "stream",
     "text": [
      "Valor propio 1: 100.00%\n",
      "Valor propio 2: 0.00%\n"
     ]
    }
   ],
   "source": [
    "eigv_sum = sum(vr_pro)\n",
    "for i,j in enumerate(pr_pro):\n",
    "    print('Valor propio {0:}: {1:.2%}'.format(i+1, (j[0]/eigv_sum).real))\n"
   ]
  },
  {
   "cell_type": "markdown",
   "metadata": {},
   "source": [
    "Finalmente, con el vector propio 1 se obtiene la matriz de vector propio, y así reducir la dimension de los datos:"
   ]
  },
  {
   "cell_type": "code",
   "execution_count": 168,
   "metadata": {},
   "outputs": [
    {
     "name": "stdout",
     "output_type": "stream",
     "text": [
      "[ 0.80590827 -0.59204042]\n"
     ]
    }
   ],
   "source": [
    "W = np.hstack((pr_pro[0][1]))\n",
    "print(W.real)"
   ]
  },
  {
   "cell_type": "markdown",
   "metadata": {},
   "source": [
    "Utilizando los datos de testeo y la matriz W encontrada se calcula la transformación de las muestras a una dimensón:"
   ]
  },
  {
   "cell_type": "code",
   "execution_count": 172,
   "metadata": {},
   "outputs": [],
   "source": [
    "LS_test = np.array(LS_test)\n",
    "LM_test = np.array(LM_test)\n",
    "LS_lda = LS1.dot(W)\n",
    "LM_lda = LM1.dot(W)"
   ]
  },
  {
   "cell_type": "markdown",
   "metadata": {},
   "source": [
    "Finalmente se gráfican los resultados:"
   ]
  },
  {
   "cell_type": "code",
   "execution_count": 173,
   "metadata": {},
   "outputs": [
    {
     "data": {
      "image/png": "[encoded data removed]",
      "text/plain": [
       "<Figure size 432x288 with 1 Axes>"
      ]
     },
     "metadata": {
      "needs_background": "light"
     },
     "output_type": "display_data"
    }
   ],
   "source": [
    "plt.plot(LS_lda, np.ones((len(LS_lda),1)), 'ro', color = 'green')\n",
    "plt.plot(LM_lda, np.zeros((len(LM_lda),1)),'ro',color='red')\n",
    "plt.show()"
   ]
  },
  {
   "cell_type": "markdown",
   "metadata": {},
   "source": [
    "En conclusión, según los resultados, podemos inferir que los datos de edad y precio del boleto no son los adecuados para predecir la supervivencia de los pasajeros del Titanic. Ya que, no es posible agrupar a los sobrevivientes en un rango de datos que excluya a los muertos.\n",
    "\n",
    "Otra posibilidad es que los datos de entrenamiento utilizados no fueron los adecuados, y esto desencadeno un mal resultado con los datos de prueba."
   ]
  },
  {
   "cell_type": "markdown",
   "metadata": {},
   "source": [
    "## 2. Teorema de la Función Inversa (10p)\n",
    "\n",
    "El teorema de la función inversa permite generar variables aleatorias continuas con una función de distribución $F(x)$ a partir de la inversa $F^{-1}(x)$. Donde los valores generados en la función inversa están regidos por una distribución uniforme $u \\sim U(0,1)$. \n",
    "\n",
    "En esta sección se trabajará con la distribución Weibull, cuya función de densidad de probabilidad está dada por:\n",
    "\n",
    "\\begin{aligned}\n",
    "Weibull(\\alpha,\\beta) = \\frac{\\alpha}{\\beta^{\\alpha}}x^{\\alpha -1}\\cdot exp \\left( \\frac{-x}{\\beta}\\right)^{\\alpha}\n",
    "\\end{aligned}\n",
    "\n",
    "\n",
    "\n",
    "\n",
    "\n",
    "\n",
    "Para trabajar el teorema de la función inversa siga los siguientes pasos:\n",
    "\n",
    "1. Identificar la función que defina a la variable aleatoria."
   ]
  },
  {
   "cell_type": "markdown",
   "metadata": {},
   "source": [
    "**R.-** La variable aleatoria que identifica a la función sigue una distribución _Weibull_.\n",
    "\n",
    "$$X \\sim Weibull(\\alpha,\\beta)$$"
   ]
  },
  {
   "cell_type": "markdown",
   "metadata": {},
   "source": [
    "2. De dicha función calcular la función de densidad acumulada. Explique en breves palabras como obtenerla y si es invertible o no (Lo de invertible hace referencia a esta función de densidad acumulada Weibull en particular y no olvide mencionar cual es la función de densidad acumulada Weibull).\n"
   ]
  },
  {
   "cell_type": "markdown",
   "metadata": {},
   "source": [
    "**R.-** Para obtener la función de densidad  acumulada integramos la función de probabilidad desde el $-\\infty$ hasta un $x$ genérico:\n",
    "\n",
    "$$F(x) = \\int \\limits_{-\\infty}^{x} \\frac{\\alpha}{\\beta^{\\alpha}}x^{\\alpha -1}\\cdot exp \\left( \\frac{-x}{\\beta}\\right)^{\\alpha} \\cdot dx = 1- exp (-\\left( \\frac{x}{\\beta}\\right)^{\\alpha})$$\n",
    "\n",
    "La función es invertible ya que es continua y diferenciable en todo su dominio, además $F'(x) \\neq 0$ $\\forall$ $ x $ $\\epsilon$ $ \\mathbb{R}$  "
   ]
  },
  {
   "cell_type": "markdown",
   "metadata": {},
   "source": [
    "3. De la función de densidad acumulada despejar la variable X. La distribución Weibull a trabajar tiene parámetros $\\alpha = 10$ y $\\beta = 3$\n"
   ]
  },
  {
   "cell_type": "markdown",
   "metadata": {},
   "source": [
    "**R.-** Al despejar $x$ obtenemos:\n",
    "\n",
    "$$x = {\\beta}(- ln(1-F))^{\\frac 1\\alpha}$$"
   ]
  },
  {
   "cell_type": "markdown",
   "metadata": {},
   "source": [
    "4. Generar 10000 valores que siguen la distribución $u \\sim U(0,1)$ y utilícelos como argumento en la función inversa encontrada\n"
   ]
  },
  {
   "cell_type": "markdown",
   "metadata": {},
   "source": [
    "**R.-** Para generar los valores se utiliza la librería random de numpy, y se evaluan en la función encontrada.\n",
    "\n",
    "**iweib(int F, float b, float a)**\n",
    "\n",
    "Función inversa encontrada anteriormente, **_F_** es el resultado de la función de distribución acumulada, **_b_** y **_a_** son $\\alpha$ y $\\beta$ respectivamente. "
   ]
  },
  {
   "cell_type": "code",
   "execution_count": 14,
   "metadata": {},
   "outputs": [],
   "source": [
    "def iweib(F,b,a):\n",
    "    return b*(-np.log(1-F))**(1/a)"
   ]
  },
  {
   "cell_type": "markdown",
   "metadata": {},
   "source": [
    "Se genrarn los datos solicitados:"
   ]
  },
  {
   "cell_type": "code",
   "execution_count": 15,
   "metadata": {},
   "outputs": [],
   "source": [
    "np.random.seed(2017)\n",
    "datos = np.random.uniform(0,1,10000)\n",
    "inversa=[]\n",
    "\n",
    "for i in datos:\n",
    "    inversa.append(iweib(i,3,10))"
   ]
  },
  {
   "cell_type": "markdown",
   "metadata": {},
   "source": [
    "Se construye un histogrma con los datos:"
   ]
  },
  {
   "cell_type": "code",
   "execution_count": 16,
   "metadata": {},
   "outputs": [
    {
     "data": {
      "image/png": "[encoded data removed]",
      "text/plain": [
       "<Figure size 432x288 with 1 Axes>"
      ]
     },
     "metadata": {
      "needs_background": "light"
     },
     "output_type": "display_data"
    }
   ],
   "source": [
    "count, bins = np.histogram(inversa)\n",
    "plt.hist(bins[:-1],bins, weights=count, histtype='step')\n",
    "plt.show()"
   ]
  },
  {
   "cell_type": "markdown",
   "metadata": {},
   "source": [
    "5. Genere una distribución weibull de tamaño 10000 con los mismos $\\alpha$ y $\\beta$ que la trabajada. Y haga un gráfico de la densidad de dichos valores. \n"
   ]
  },
  {
   "cell_type": "markdown",
   "metadata": {},
   "source": [
    "se definen los $\\alpha$ y $\\beta$ correspondioentes:"
   ]
  },
  {
   "cell_type": "code",
   "execution_count": 17,
   "metadata": {},
   "outputs": [],
   "source": [
    "a = 10\n",
    "b = 3"
   ]
  },
  {
   "cell_type": "markdown",
   "metadata": {},
   "source": [
    "Se generan los datos y se construye el histograma que representa a la función:"
   ]
  },
  {
   "cell_type": "code",
   "execution_count": 18,
   "metadata": {},
   "outputs": [
    {
     "data": {
      "image/png": "[encoded data removed]",
      "text/plain": [
       "<Figure size 432x288 with 1 Axes>"
      ]
     },
     "metadata": {
      "needs_background": "light"
     },
     "output_type": "display_data"
    }
   ],
   "source": [
    "np.random.seed(2015)\n",
    "x = np.random.weibull(a, 10000)\n",
    "plt.hist(x*b, histtype='step')\n",
    "plt.show()"
   ]
  },
  {
   "cell_type": "markdown",
   "metadata": {},
   "source": [
    "6. Concluya respecto a lo que observa en ambas gráficas.\n",
    "\n",
    "**R.-** Para un mejor análisis se construye un gráfico con ambos histogramas."
   ]
  },
  {
   "cell_type": "code",
   "execution_count": 19,
   "metadata": {},
   "outputs": [
    {
     "data": {
      "image/png": "[encoded data removed]",
      "text/plain": [
       "<Figure size 432x288 with 1 Axes>"
      ]
     },
     "metadata": {
      "needs_background": "light"
     },
     "output_type": "display_data"
    }
   ],
   "source": [
    "plt.hist(bins[:-1], bins, weights=count, histtype='step', label = 'Inversa')\n",
    "plt.hist(x*b, histtype='step', label = 'Weibull')\n",
    "plt.legend(loc='best', prop={'size': 8})\n",
    "plt.show()"
   ]
  },
  {
   "cell_type": "markdown",
   "metadata": {},
   "source": [
    "En base a lo observado en el gráfico presente, se puede decir que, de manera empírica, se  cumple el Teorema de la función Inversa.  Ya que al evaluar los datos de una diostribución uniforme en la inversa de la función acumulada de Weibull resulta una distribución de Weibull. Se puede decir entonces, que hay una relación entre los parámetros de la distribución uniforme y los parámetros de la distribución Weibull."
   ]
  },
  {
   "cell_type": "markdown",
   "metadata": {},
   "source": [
    "## 3. Teorema del Límite Central (30p)\n",
    "\n",
    "El teorema del límite central es uno de los postulados más importantes de estadística. En esta sección se procederá a comprobarlo en su forma clásica. \n",
    "\n",
    "Sea $x_{1},x_{2},....,x_{n}$ una muestra aleatoria de tamaño $n$ IID extraidas de una distribución con valor esperado $\\mu$ y varianza finita $\\sigma^{2}$. Si calculamos la media muestral: \n",
    "\n",
    "$$ \\bar{X}_{n} = \\frac{\\sum x_{i}}{n}$$\n",
    "\n",
    "Y repetimos este proceso una gran cantidad de veces $(P)$ tendremos una distribución de las medias de las muestras (*Sample mean distribution*). El TLC establece que, si el número de repeticiones es lo suficientemente grande: \n",
    "\n",
    "$$ \\bar{X} \\sim N\\left(\\mu,\\sqrt{\\frac{\\sigma^{2}}{n}}\\right)$$ \n",
    "\n",
    "En esta sección se trabajará con la siguiente distribución y se demostrará lo que enuncia el TLC.\n",
    "\n",
    "| Valor | Probabilidad |\n",
    "|:-----:|:------------:|\n",
    "|   1   |      0.1     |\n",
    "|   2   |      0.2     |\n",
    "|   5   |     0.05     |\n",
    "|   6   |     0.05     |\n",
    "|   7   |      0.2     |\n",
    "|   9   |     0.10     |\n",
    "|   10  |     0.05     |\n",
    "|   11  |     0.2      |\n",
    "|   12  |     0.05     |\n",
    "\n",
    ">a) Determine el valor esperado y la varianza **TEÓRICOS**"
   ]
  },
  {
   "cell_type": "markdown",
   "metadata": {},
   "source": [
    "**R.-** La esperanza matemática, o tambien llamada valor esperado, es el resultado promedio de un evento probabilístico. Es equivalente a la suma de cada posible resultado multiplicado con su respectiva probabilidad, es decir:\n",
    "\n",
    "$$E[X]=\\sum_{i=1}^{n}x_{i} \\cdot P(x_{i})$$\n",
    "\n",
    "En cuanto a la varianza, la cual es el promedio de las distancias entre cada dato y su valor esperado, se puede calcular mediante la siguiente fórmula:\n",
    "\n",
    "$$V[X]=E[X^{2}]-E[X]^{2}$$\n",
    "\n",
    "Desarrollo\n",
    "-----------\n",
    "\n",
    "Se presentan dos listas, con los datos de la tabla, para futuros calculos:"
   ]
  },
  {
   "cell_type": "code",
   "execution_count": 20,
   "metadata": {},
   "outputs": [],
   "source": [
    "v = [1,2,5,6,7,9,10,11,12]  # Valores\n",
    "p = [0.1,0.2,0.05,0.05,0.2,0.10,0.05,0.2,0.05] # Probabilidades"
   ]
  },
  {
   "cell_type": "markdown",
   "metadata": {},
   "source": [
    "El Valor Esperado Teórico es:"
   ]
  },
  {
   "cell_type": "code",
   "execution_count": 21,
   "metadata": {},
   "outputs": [
    {
     "name": "stdout",
     "output_type": "stream",
     "text": [
      "6.65\n"
     ]
    }
   ],
   "source": [
    "print(sum(map((lambda x,y:x*y),v,p)))"
   ]
  },
  {
   "cell_type": "markdown",
   "metadata": {},
   "source": [
    "La Varianza Teórica es igual a:"
   ]
  },
  {
   "cell_type": "code",
   "execution_count": 22,
   "metadata": {},
   "outputs": [
    {
     "name": "stdout",
     "output_type": "stream",
     "text": [
      "14.027500000000003\n"
     ]
    }
   ],
   "source": [
    "print(sum(map((lambda x,y:(x**2)*y),v,p))-(sum(map((lambda x,y:x*y),v,p))**2))"
   ]
  },
  {
   "cell_type": "markdown",
   "metadata": {},
   "source": [
    "_______________\n",
    ">b) Con $P = 10,1000$ calcule la media de muestras de tamaño : $n \\in[2,10,30,100,1000]$ compare los resultados obtenidos para los dos $P$ dados. Presente los datos en una tabla ordenada con columnas: $n,\\;P=10,\\;P=1000$ Comente, ¿qué parece influir mas, la cantidad de repeticiones, el tamaño de la muestra o ambas?"
   ]
  },
  {
   "cell_type": "markdown",
   "metadata": {},
   "source": [
    "**R.-** Para la simulación del experimento se utilizarán dos funciones, una que calcule la Media de los datos dados, y otra que genere una muestra de datos aleatorios dada las probabilidades antes entregadas. "
   ]
  },
  {
   "cell_type": "markdown",
   "metadata": {},
   "source": [
    "**Media( list L )**\n",
    "\n",
    "Función que calcula la media aritmética de la lista de datos **L**."
   ]
  },
  {
   "cell_type": "code",
   "execution_count": 23,
   "metadata": {},
   "outputs": [],
   "source": [
    "def Media(L):\n",
    "    return sum(L)/len(L)"
   ]
  },
  {
   "cell_type": "markdown",
   "metadata": {},
   "source": [
    "**elegir( list v, list p, int n, int P)**\n",
    "\n",
    "Función que genera una lista de largo **_P_**, en donde cada elemento es la media aritmética de una lista de largo **_n_** generada a partir de los valores de la lista **_v_** en base a la probabilidad señalada por la lista **_p_**."
   ]
  },
  {
   "cell_type": "code",
   "execution_count": 24,
   "metadata": {},
   "outputs": [],
   "source": [
    "def elegir(v,p,n,P):\n",
    "    np.random.seed(2017)\n",
    "    r=[]\n",
    "    for i in range(P):\n",
    "        l = np.random.choice(v,size=n,p=p)\n",
    "        m = Media(l)\n",
    "        r.append(m)\n",
    "    return r"
   ]
  },
  {
   "cell_type": "markdown",
   "metadata": {},
   "source": [
    "____________\n",
    "Desarrollo\n",
    "---------\n",
    "\n",
    "P = 10\n",
    "-------\n",
    "\n",
    "Para **n = 2** la media es:"
   ]
  },
  {
   "cell_type": "code",
   "execution_count": 25,
   "metadata": {},
   "outputs": [
    {
     "name": "stdout",
     "output_type": "stream",
     "text": [
      "5.3\n"
     ]
    }
   ],
   "source": [
    "P10_N2 = elegir(v,p,2,10)\n",
    "print(Media(P10_N2))"
   ]
  },
  {
   "cell_type": "markdown",
   "metadata": {},
   "source": [
    "Para **n = 10** la media es:"
   ]
  },
  {
   "cell_type": "code",
   "execution_count": 26,
   "metadata": {},
   "outputs": [
    {
     "name": "stdout",
     "output_type": "stream",
     "text": [
      "6.24\n"
     ]
    }
   ],
   "source": [
    "P10_N10 = elegir(v,p,10,10)\n",
    "print(Media(P10_N10))"
   ]
  },
  {
   "cell_type": "markdown",
   "metadata": {},
   "source": [
    "Para **n = 30** la media es:"
   ]
  },
  {
   "cell_type": "code",
   "execution_count": 27,
   "metadata": {},
   "outputs": [
    {
     "name": "stdout",
     "output_type": "stream",
     "text": [
      "6.24\n"
     ]
    }
   ],
   "source": [
    "P10_N30 = elegir(v,p,30,10)\n",
    "print(Media(P10_N30))"
   ]
  },
  {
   "cell_type": "markdown",
   "metadata": {},
   "source": [
    "Para **n = 100** la media es:"
   ]
  },
  {
   "cell_type": "code",
   "execution_count": 28,
   "metadata": {},
   "outputs": [
    {
     "name": "stdout",
     "output_type": "stream",
     "text": [
      "6.604999999999999\n"
     ]
    }
   ],
   "source": [
    "P10_N100 = elegir(v,p,100,10)\n",
    "print(Media(P10_N100))"
   ]
  },
  {
   "cell_type": "markdown",
   "metadata": {},
   "source": [
    "Para **n = 1000** la media es:"
   ]
  },
  {
   "cell_type": "code",
   "execution_count": 29,
   "metadata": {},
   "outputs": [
    {
     "name": "stdout",
     "output_type": "stream",
     "text": [
      "6.625100000000001\n"
     ]
    }
   ],
   "source": [
    "P10_N1000 = elegir(v,p,1000,10)\n",
    "print(Media(P10_N1000))"
   ]
  },
  {
   "cell_type": "markdown",
   "metadata": {},
   "source": [
    "____________\n",
    "P = 1000\n",
    "-------\n",
    "\n",
    "Para **n = 2** la media es:"
   ]
  },
  {
   "cell_type": "code",
   "execution_count": 30,
   "metadata": {},
   "outputs": [
    {
     "name": "stdout",
     "output_type": "stream",
     "text": [
      "6.656\n"
     ]
    }
   ],
   "source": [
    "P1000_N2 = elegir(v,p,2,1000)\n",
    "print(Media(P1000_N2))"
   ]
  },
  {
   "cell_type": "markdown",
   "metadata": {},
   "source": [
    "Para **n = 10** la media es:"
   ]
  },
  {
   "cell_type": "code",
   "execution_count": 31,
   "metadata": {},
   "outputs": [
    {
     "name": "stdout",
     "output_type": "stream",
     "text": [
      "6.625099999999996\n"
     ]
    }
   ],
   "source": [
    "P1000_N10 = elegir(v,p,10,1000)\n",
    "print(Media(P1000_N10))"
   ]
  },
  {
   "cell_type": "markdown",
   "metadata": {},
   "source": [
    "Para **n = 30** la media es:"
   ]
  },
  {
   "cell_type": "code",
   "execution_count": 32,
   "metadata": {},
   "outputs": [
    {
     "name": "stdout",
     "output_type": "stream",
     "text": [
      "6.60766666666667\n"
     ]
    }
   ],
   "source": [
    "P1000_N30 = elegir(v,p,30,1000)\n",
    "print(Media(P1000_N30))"
   ]
  },
  {
   "cell_type": "markdown",
   "metadata": {},
   "source": [
    "Para **n = 100** la media es:"
   ]
  },
  {
   "cell_type": "code",
   "execution_count": 33,
   "metadata": {},
   "outputs": [
    {
     "name": "stdout",
     "output_type": "stream",
     "text": [
      "6.645459999999995\n"
     ]
    }
   ],
   "source": [
    "P1000_N100 = elegir(v,p,100,1000)\n",
    "print(Media(P1000_N100))"
   ]
  },
  {
   "cell_type": "markdown",
   "metadata": {},
   "source": [
    "Para **n = 1000** la media es:"
   ]
  },
  {
   "cell_type": "code",
   "execution_count": 34,
   "metadata": {},
   "outputs": [
    {
     "name": "stdout",
     "output_type": "stream",
     "text": [
      "6.649298000000003\n"
     ]
    }
   ],
   "source": [
    "P1000_N1000 = elegir(v,p,1000,1000)\n",
    "print(Media(P1000_N1000))"
   ]
  },
  {
   "cell_type": "markdown",
   "metadata": {},
   "source": [
    "-------------------\n",
    "En resumen los resultados son:\n",
    "\n",
    "\n",
    "|  $$n$$ |  $$P=10$$ | $$P=1000$$ |\n",
    "|:------:|:---------:|:----------:|\n",
    "|   2    |  5.300    |  6.656     |\n",
    "|  10    |  6.240    |  6.625     |\n",
    "|  30    |  6.240    |  6.608     |\n",
    "|  100   |  6.605    |  6.645     |\n",
    "|  1000  |  6.625    |  6.645     |\n",
    "\n",
    "\n",
    "**Análisis y Respuesta**\n",
    "\n",
    "A simple vista podemos darnos cuenta que los resultados para un **P = 10** son más variados que los obtenidos para **P = 1000**. Además, según el valor esperado calculado en el incisoo a) (*6.5*), los datos obtenidos para  un **P = 1000** son más cercanos y más precisos para los diferentes **_n_** evaluados, incluso para **n = 2** en donde el resultado obtenido para **P = 10** es evidentemente diferente al valor teórico, y no así el valor encontrado con un **P = 1000** el cual es indudablemente cercano al valor correcto. Aun así, los resultados se acercan al valor teórico a medida que aumenta el **_n_**, esto ya que con una muestra más grande es más apreciable la probabilidad de cada valor, y por ende se obtiene una media más representativa.\n",
    "\n",
    "En base a lo comentado y lo observado en los resultados, es posible afirmar que ambas variables, la cantidad de repeticiones (**_P_**) y el tamaño de la muestra (**_n_**), influyen en el resultado. Pero, indudablemente la cantidad de repeticiones influye de mayor manera en el experimento, ya que para un gran número de repeticiones es posible acercarse al valor teórico con muestras muy pequeñas."
   ]
  },
  {
   "cell_type": "markdown",
   "metadata": {},
   "source": [
    "____________\n",
    ">c) Con lo obtenido en b) haga un histograma para las muestras de tamaño 2, 30 y 1000 de P = 1000. Comente lo que observa y concluya. ¿Se cumple lo que enuncia el teorema del límite central?"
   ]
  },
  {
   "cell_type": "markdown",
   "metadata": {},
   "source": [
    "**R.-** Para la construcción de los histogramas se utilizarán los mismos datos usados anteriormente para el calculo de la media.\n",
    "\n",
    "Desarrollo\n",
    "-------\n",
    "\n",
    "Histograma para **P = 1000** y **n = 2**"
   ]
  },
  {
   "cell_type": "code",
   "execution_count": 35,
   "metadata": {},
   "outputs": [
    {
     "data": {
      "image/png": "[encoded data removed]",
      "text/plain": [
       "<Figure size 432x288 with 1 Axes>"
      ]
     },
     "metadata": {
      "needs_background": "light"
     },
     "output_type": "display_data"
    }
   ],
   "source": [
    "plt.hist(P1000_N2)\n",
    "plt.show()"
   ]
  },
  {
   "cell_type": "markdown",
   "metadata": {},
   "source": [
    "_________\n",
    "Histograma para **P = 1000** y **n = 30**"
   ]
  },
  {
   "cell_type": "code",
   "execution_count": 36,
   "metadata": {},
   "outputs": [
    {
     "data": {
      "image/png": "[encoded data removed]",
      "text/plain": [
       "<Figure size 432x288 with 1 Axes>"
      ]
     },
     "metadata": {
      "needs_background": "light"
     },
     "output_type": "display_data"
    }
   ],
   "source": [
    "plt.hist(P1000_N30)\n",
    "plt.show()"
   ]
  },
  {
   "cell_type": "markdown",
   "metadata": {},
   "source": [
    "_________\n",
    "Histograma para **P = 1000** y **n = 1000**"
   ]
  },
  {
   "cell_type": "code",
   "execution_count": 37,
   "metadata": {},
   "outputs": [
    {
     "data": {
      "image/png": "[encoded data removed]",
      "text/plain": [
       "<Figure size 432x288 with 1 Axes>"
      ]
     },
     "metadata": {
      "needs_background": "light"
     },
     "output_type": "display_data"
    }
   ],
   "source": [
    "plt.hist(P1000_N1000)\n",
    "plt.show()"
   ]
  },
  {
   "cell_type": "markdown",
   "metadata": {},
   "source": [
    "____________\n",
    "**Análisis y Respuesta**\n",
    "\n",
    "A medida que aumenta el tamaño de la muestra se evidencia una dismunución en la amplitud de los datos. Pues en un principio se observa una amplitud de largo 12, y finalmente se presenta una amplitud de largo aproximado a 1.1, evidentemente menor a su valor inicial. Además, a medida que aumenta el tamaño de la muestra también se presenta una mejor aproximación a una distribución normal con $\\mu$ igual a *6.5*, y es evidente que también disminuye la dispersión de los datos, concentrandose cada vez más cerca de la media. \n",
    "\n",
    "Por lo tanto, es posible decir que sí se cumple lo estipulado en el **_Teorema del Límite Central_**, pues para un gran numero de repeticiones los datos obtenidos se comportan como una distribución normal con $\\mu$ equivalente a la esperanza $(E)$ de los datos estudiados."
   ]
  },
  {
   "cell_type": "markdown",
   "metadata": {},
   "source": [
    "______________\n",
    "## 4. Ley de los Grande Números (20p)\n",
    "\n",
    "En estadística, la ley de los grandes números engloba teoremas que describen el comportamiento del promedio de una distribución de variables aleatorias. La ley de los grandes números dice que, en pocas palabras, a medida que se aumenta el tamaño muestral el promedio de la distribución de variables aleatorias converge al promedio de la población completa.\n",
    "\n",
    "Un estudio realizado en el casino de la universidad MSU, indica que el tiempo de espera en la cola del casino para obtener su almuerzo puede modelarse como una distribución Exponencial con parámetro: $\\lambda = 0.1$\n",
    "\n",
    ">a) **Utilizando las funciones provistas por los lenguajes** calcule la probabilida **teórica** de que un alumno espere menos de 10 minutos, exactamente 20 minutos y más de 50 minutos."
   ]
  },
  {
   "cell_type": "markdown",
   "metadata": {},
   "source": [
    "**R.-** Para el desarrollo de la respuesta se utilizará la librearía *SciPy* la cual proporciona varios métodos para manejar distribuciones de probabilidad. \n",
    "\n",
    "En este caso importaremos la distribucion exponencial (*stats.expon*)."
   ]
  },
  {
   "cell_type": "markdown",
   "metadata": {},
   "source": [
    "Desarrollo\n",
    "---------------------"
   ]
  },
  {
   "cell_type": "code",
   "execution_count": 38,
   "metadata": {},
   "outputs": [],
   "source": [
    "from scipy.stats import expon as ex"
   ]
  },
  {
   "cell_type": "markdown",
   "metadata": {},
   "source": [
    "En la libreria utlizada se genera la distribución a partir del parámetro *scale* el cual cooresponde  a:\n",
    "\n",
    "$$scale = \\frac{1}{\\lambda}$$\n",
    "\n",
    "Por lo tanto, para generar la distribucón pedida se hace lo siguiente:"
   ]
  },
  {
   "cell_type": "code",
   "execution_count": 39,
   "metadata": {
    "scrolled": true
   },
   "outputs": [],
   "source": [
    "lamb = 0.1   # Asiganación del valor entregado\n",
    "scale = 1/lamb    # lambda = 0.1 -> scale = 1/lambda\n",
    "x = np.linspace(ex.ppf(0.01,scale = scale),ex.ppf(0.99,scale=scale),100)  # se generan 100 datos que sigan una distr. exp\n",
    "fdp = ex.pdf(x,scale=scale)  # función de probabilidad con los datos generoados y el scale indicado"
   ]
  },
  {
   "cell_type": "markdown",
   "metadata": {},
   "source": [
    "Se gráfica el resultado obtenido a partir de los 100 datos generados. En donde la variable aleatoria $X$ representa la cantidad de minutos que espera un alumno en la fila."
   ]
  },
  {
   "cell_type": "code",
   "execution_count": 40,
   "metadata": {},
   "outputs": [
    {
     "data": {
      "image/png": "[encoded data removed]",
      "text/plain": [
       "<Figure size 432x288 with 1 Axes>"
      ]
     },
     "metadata": {
      "needs_background": "light"
     },
     "output_type": "display_data"
    }
   ],
   "source": [
    "plt.plot(x, fdp)\n",
    "plt.title('Tiempo de espera en la fila')\n",
    "plt.ylabel('probabilidad')\n",
    "plt.xlabel('minutos')\n",
    "plt.show()"
   ]
  },
  {
   "cell_type": "markdown",
   "metadata": {},
   "source": [
    "Para el calculo de las probabilidades requeridas se utiliza la densidad acumulada de probabilidad, la cual se define como:\n",
    "\n",
    "$$F(x) = P(X\\leq x) = \\int \\limits_{-\\infty}^{x} fdp(X) \\cdot dX$$"
   ]
  },
  {
   "cell_type": "markdown",
   "metadata": {},
   "source": [
    "Por lo tanto, la probabiliudad de que el alumno espere menos de 10 minutos esta dada por $F(10)$.\n",
    "\n",
    "Utilizando el método porporcionado por la librería, el resultado es:"
   ]
  },
  {
   "cell_type": "code",
   "execution_count": 41,
   "metadata": {},
   "outputs": [
    {
     "name": "stdout",
     "output_type": "stream",
     "text": [
      "0.6321205588285577\n"
     ]
    }
   ],
   "source": [
    "print(ex.cdf(10,scale=scale))"
   ]
  },
  {
   "cell_type": "markdown",
   "metadata": {},
   "source": [
    "La probabilidad de que el alumno espere exactamente 20 minutos es de *0*, ya que está dada por $F(20) - F(20)$.\n",
    "\n",
    "Utilizando el método porporcionado por la librería, se comprueba el resultado:"
   ]
  },
  {
   "cell_type": "code",
   "execution_count": 42,
   "metadata": {},
   "outputs": [
    {
     "name": "stdout",
     "output_type": "stream",
     "text": [
      "0.0\n"
     ]
    }
   ],
   "source": [
    "print(ex.cdf(20,scale=scale)-ex.cdf(20,scale=scale))"
   ]
  },
  {
   "cell_type": "markdown",
   "metadata": {},
   "source": [
    "La probabilidad de que el alumno espere más de 50 minutos esta dada por $1 - F(50)$.\n",
    "\n",
    "Utilizando el método porporcionado por la librería, el resultado es:"
   ]
  },
  {
   "cell_type": "code",
   "execution_count": 43,
   "metadata": {},
   "outputs": [
    {
     "name": "stdout",
     "output_type": "stream",
     "text": [
      "0.006737946999085476\n"
     ]
    }
   ],
   "source": [
    "print(1-ex.cdf(50,scale=scale))"
   ]
  },
  {
   "cell_type": "markdown",
   "metadata": {},
   "source": [
    "Estas tres probabilidades mostradas corresponden a la probabilidad Teórica de cada caso"
   ]
  },
  {
   "cell_type": "markdown",
   "metadata": {},
   "source": [
    "___________\n",
    ">b) Ahora genere 3 muestras de dicha distribución exponencial, con tamaños n = 5, 100, 300, 10000. Para cada una de estas muestras determine las mismas probabilidades calculadas en a) de manera empírica, comente sus resultados."
   ]
  },
  {
   "cell_type": "markdown",
   "metadata": {},
   "source": [
    "**R.-** Para generar las muestras solicitadas se utilizan los métodos entrgados por la librería antes señalada, y para obtener las probabilidades se crea una función que calcula la densidad de probabilidad."
   ]
  },
  {
   "cell_type": "markdown",
   "metadata": {},
   "source": [
    "Desarrollo\n",
    "-----------------"
   ]
  },
  {
   "cell_type": "markdown",
   "metadata": {},
   "source": [
    "**FDP(float X, list L)**\n",
    "\n",
    "Función que recibe una lista **_L_**, ordena los datos de menor a mayor y luego suma a un contador por cada elemento menor **_X_**; Retorna el couciente entre el contador y la cantidad total de datos."
   ]
  },
  {
   "cell_type": "code",
   "execution_count": 44,
   "metadata": {},
   "outputs": [],
   "source": [
    "# FDP funcion de distribucion o probabilidad acumulada\n",
    "def FDP(X,L):\n",
    "    L.sort()\n",
    "    P=0\n",
    "    for i in L:\n",
    "        if i <= X:\n",
    "            P+=1\n",
    "        else:\n",
    "            return P/len(L)\n",
    "    return P/len(L)"
   ]
  },
  {
   "cell_type": "markdown",
   "metadata": {},
   "source": [
    "**fdp(float X, list L)**\n",
    "\n",
    "Función que calcula la probabilidad de obtener en **_X_** en la lista **_L_**."
   ]
  },
  {
   "cell_type": "code",
   "execution_count": 45,
   "metadata": {},
   "outputs": [],
   "source": [
    "def fdp(X,L):\n",
    "    P = L.count(X)\n",
    "    return P/len(L)"
   ]
  },
  {
   "cell_type": "markdown",
   "metadata": {},
   "source": [
    "______\n",
    "### n = 5\n",
    "\n",
    "Se generan los datos y se muestra un histograma para evidenciar gráficamente los resultados."
   ]
  },
  {
   "cell_type": "code",
   "execution_count": 46,
   "metadata": {},
   "outputs": [
    {
     "data": {
      "image/png": "[encoded data removed]",
      "text/plain": [
       "<Figure size 432x288 with 1 Axes>"
      ]
     },
     "metadata": {
      "needs_background": "light"
     },
     "output_type": "display_data"
    }
   ],
   "source": [
    "n1 = ex.rvs(size=5,scale=scale,random_state=2017) # 5 valores random de una dist. exp. y una semilla específica.\n",
    "plt.hist(n1)\n",
    "plt.show()"
   ]
  },
  {
   "cell_type": "markdown",
   "metadata": {},
   "source": [
    "Si de la población se estudia una muestra de 5 estudiantes, los resultados de las probabilidades es la siguiente:\n",
    "\n",
    "$P(X\\leq 10) = F(10)$"
   ]
  },
  {
   "cell_type": "code",
   "execution_count": 47,
   "metadata": {},
   "outputs": [
    {
     "name": "stdout",
     "output_type": "stream",
     "text": [
      "0.6\n"
     ]
    }
   ],
   "source": [
    "print(FDP(10,list(n1)))"
   ]
  },
  {
   "cell_type": "markdown",
   "metadata": {},
   "source": [
    "$P(X = 20)$"
   ]
  },
  {
   "cell_type": "code",
   "execution_count": 48,
   "metadata": {},
   "outputs": [
    {
     "name": "stdout",
     "output_type": "stream",
     "text": [
      "0.0\n"
     ]
    }
   ],
   "source": [
    "# P(X = 20):\n",
    "print(fdp(20,list(n1)))"
   ]
  },
  {
   "cell_type": "markdown",
   "metadata": {},
   "source": [
    "$P(X\\geq 50) = 1 - F(50)$ "
   ]
  },
  {
   "cell_type": "code",
   "execution_count": 49,
   "metadata": {},
   "outputs": [
    {
     "name": "stdout",
     "output_type": "stream",
     "text": [
      "0.0\n"
     ]
    }
   ],
   "source": [
    "# P(X > 50):\n",
    "print(1-FDP(50,list(n1)))"
   ]
  },
  {
   "cell_type": "markdown",
   "metadata": {},
   "source": [
    "___\n",
    "### n = 100\n",
    "\n",
    "Se generan los datos y se muestra un histograma para evidenciar gráficamente los resultados."
   ]
  },
  {
   "cell_type": "code",
   "execution_count": 50,
   "metadata": {},
   "outputs": [
    {
     "data": {
      "image/png": "[encoded data removed]",
      "text/plain": [
       "<Figure size 432x288 with 1 Axes>"
      ]
     },
     "metadata": {
      "needs_background": "light"
     },
     "output_type": "display_data"
    }
   ],
   "source": [
    "n2 = ex.rvs(size=100,scale=scale,random_state=2017)\n",
    "plt.hist(n2)\n",
    "plt.show()"
   ]
  },
  {
   "cell_type": "markdown",
   "metadata": {},
   "source": [
    "Si de la población se estudia una muestra de 100 estudiantes, los resultados de las probabilidades es la siguiente:\n",
    "\n",
    "$P(X\\leq 10) = F(10)$"
   ]
  },
  {
   "cell_type": "code",
   "execution_count": 51,
   "metadata": {},
   "outputs": [
    {
     "name": "stdout",
     "output_type": "stream",
     "text": [
      "0.67\n"
     ]
    }
   ],
   "source": [
    "# P(X < 10):\n",
    "print(FDP(10,list(n2)))"
   ]
  },
  {
   "cell_type": "markdown",
   "metadata": {},
   "source": [
    "$P(X = 20)$"
   ]
  },
  {
   "cell_type": "code",
   "execution_count": 52,
   "metadata": {},
   "outputs": [
    {
     "name": "stdout",
     "output_type": "stream",
     "text": [
      "0.0\n"
     ]
    }
   ],
   "source": [
    "# P(X = 20):\n",
    "print(fdp(20,list(n2)))"
   ]
  },
  {
   "cell_type": "markdown",
   "metadata": {},
   "source": [
    "$P(X\\geq 50) = 1 - F(50)$ "
   ]
  },
  {
   "cell_type": "code",
   "execution_count": 53,
   "metadata": {},
   "outputs": [
    {
     "name": "stdout",
     "output_type": "stream",
     "text": [
      "0.0\n"
     ]
    }
   ],
   "source": [
    "# P(X > 50):\n",
    "print(1-FDP(50,list(n2)))"
   ]
  },
  {
   "cell_type": "markdown",
   "metadata": {},
   "source": [
    "___\n",
    "### n = 300\n",
    "\n",
    "Se generan los datos y se muestra un histograma para evidenciar los resultados."
   ]
  },
  {
   "cell_type": "code",
   "execution_count": 54,
   "metadata": {},
   "outputs": [
    {
     "data": {
      "image/png": "[encoded data removed]",
      "text/plain": [
       "<Figure size 432x288 with 1 Axes>"
      ]
     },
     "metadata": {
      "needs_background": "light"
     },
     "output_type": "display_data"
    }
   ],
   "source": [
    "n3 = ex.rvs(size=300,scale=scale,random_state=2017)\n",
    "plt.hist(n3)\n",
    "plt.show()"
   ]
  },
  {
   "cell_type": "markdown",
   "metadata": {},
   "source": [
    "Si de la población se estudia una muestra de 300 estudiantes, los resultados de las probabilidades es la siguiente:\n",
    "\n",
    "$P(X\\leq 10) = F(10)$"
   ]
  },
  {
   "cell_type": "code",
   "execution_count": 55,
   "metadata": {},
   "outputs": [
    {
     "name": "stdout",
     "output_type": "stream",
     "text": [
      "0.6633333333333333\n"
     ]
    }
   ],
   "source": [
    "# P(X < 10):\n",
    "print(FDP(10,list(n3)))"
   ]
  },
  {
   "cell_type": "markdown",
   "metadata": {},
   "source": [
    "$P(X = 20)$"
   ]
  },
  {
   "cell_type": "code",
   "execution_count": 56,
   "metadata": {},
   "outputs": [
    {
     "name": "stdout",
     "output_type": "stream",
     "text": [
      "0.0\n"
     ]
    }
   ],
   "source": [
    "# P(X = 20):\n",
    "print(fdp(20,list(n3)))"
   ]
  },
  {
   "cell_type": "markdown",
   "metadata": {},
   "source": [
    "$P(X\\geq 50) = 1 - F(50)$ "
   ]
  },
  {
   "cell_type": "code",
   "execution_count": 57,
   "metadata": {},
   "outputs": [
    {
     "name": "stdout",
     "output_type": "stream",
     "text": [
      "0.0033333333333332993\n"
     ]
    }
   ],
   "source": [
    "# P(X > 50):\n",
    "print(1-FDP(50,list(n3)))"
   ]
  },
  {
   "cell_type": "markdown",
   "metadata": {},
   "source": [
    "___\n",
    "### n = 10000\n",
    "\n",
    "Se generan los datos y se muestra un histograma para evidenciar los resultados."
   ]
  },
  {
   "cell_type": "code",
   "execution_count": 58,
   "metadata": {},
   "outputs": [
    {
     "data": {
      "image/png": "[encoded data removed]",
      "text/plain": [
       "<Figure size 432x288 with 1 Axes>"
      ]
     },
     "metadata": {
      "needs_background": "light"
     },
     "output_type": "display_data"
    }
   ],
   "source": [
    "n4 = ex.rvs(size=10000,scale=scale,random_state=2017)\n",
    "plt.hist(n4)\n",
    "plt.show()"
   ]
  },
  {
   "cell_type": "markdown",
   "metadata": {},
   "source": [
    "Si de la población se estudia una muestra de 10000 estudiantes, los resultados de las probabilidades es la siguiente:\n",
    "\n",
    "$P(X\\leq 10) = F(10)$"
   ]
  },
  {
   "cell_type": "code",
   "execution_count": 59,
   "metadata": {},
   "outputs": [
    {
     "name": "stdout",
     "output_type": "stream",
     "text": [
      "0.6289\n"
     ]
    }
   ],
   "source": [
    "print(FDP(10,list(n4))-FDP(float('-inf'),list(n4)))"
   ]
  },
  {
   "cell_type": "markdown",
   "metadata": {},
   "source": [
    "$P(X = 20)$"
   ]
  },
  {
   "cell_type": "code",
   "execution_count": 60,
   "metadata": {},
   "outputs": [
    {
     "name": "stdout",
     "output_type": "stream",
     "text": [
      "0.0\n"
     ]
    }
   ],
   "source": [
    "print(fdp(20,list(n4)))"
   ]
  },
  {
   "cell_type": "markdown",
   "metadata": {},
   "source": [
    "$P(X\\geq 50) = 1 - F(50)$ "
   ]
  },
  {
   "cell_type": "code",
   "execution_count": 61,
   "metadata": {},
   "outputs": [
    {
     "name": "stdout",
     "output_type": "stream",
     "text": [
      "0.008299999999999974\n"
     ]
    }
   ],
   "source": [
    "print(1-FDP(50,list(n4)))"
   ]
  },
  {
   "cell_type": "markdown",
   "metadata": {},
   "source": [
    "_____________\n",
    "**Análisis y Respuesta**\n",
    "\n",
    "A medida que aumenta la cantidad de datos (**_n_**) las probabilidades empíricas se acercan a las probabilidades teórica. Por lo tanto, es posible decir que entre más grande es la muestra, más representativos son los resultados, en base a las características de la población. Además, a medida que aumenta la cantida de datos, es posible, mediante los histogramas, evidenciar de mejor manera la distribución exponencial y la concentración de datos entre los *0* minutos y *10* minutos.\n",
    "\n",
    "A pesar de que los resultados empíricos se acercan a los teóricos a medida que aumenta el **_n_**, estos nunca serán *100%* acertivos, pues sólo son una representación de la población, y nunca se podrá representar a la población por completo. A no ser, por su puesto, que se estudie a la población y no a una muestra de ella."
   ]
  },
  {
   "cell_type": "markdown",
   "metadata": {},
   "source": [
    "___\n",
    ">c) ¿Cuál debería ser la media **teórica** de todas estas distribuciones? ¿Y cuál es la empírica? ¿Si difieren o son iguales a qué se debe esto?\n"
   ]
  },
  {
   "cell_type": "markdown",
   "metadata": {},
   "source": [
    "**R.-** Para obtener la media teórica se usan los métodos de la librería utilizada; Para obtener la media empírica para los distintos n dados se crea una función que cumpla el objetivo. \n",
    "\n",
    "Se calcula además el error porcentual de cada muestra para facilitar la comparación entre cada media empírica y la media teórica. El error porcentual sigue la siguiente fórmula:\n",
    "\n",
    "$$Error\\% = \\frac{|ValorTeórico - ValorExperimental|}{ValorTeórico}\\cdot 100$$\n",
    "\n",
    "Desarrollo\n",
    "-----------\n",
    "\n",
    "**Media(list L)**\n",
    "\n",
    "Función que recibe una lista de datos L y retorna la media aritmética de estos."
   ]
  },
  {
   "cell_type": "code",
   "execution_count": 62,
   "metadata": {},
   "outputs": [],
   "source": [
    "def Media(L):\n",
    "    return sum(L)/len(L)"
   ]
  },
  {
   "cell_type": "markdown",
   "metadata": {},
   "source": [
    "_________________\n",
    "La media **teórica** de la distribuión exponencial con $\\lambda = 0.1$ es igual a:"
   ]
  },
  {
   "cell_type": "code",
   "execution_count": 63,
   "metadata": {},
   "outputs": [
    {
     "name": "stdout",
     "output_type": "stream",
     "text": [
      "10.0\n"
     ]
    }
   ],
   "source": [
    "print(ex.mean(scale=scale))"
   ]
  },
  {
   "cell_type": "markdown",
   "metadata": {},
   "source": [
    "______________\n",
    "## Media Empírica\n",
    "\n",
    "### n = 5\n",
    "\n",
    "Media:"
   ]
  },
  {
   "cell_type": "code",
   "execution_count": 64,
   "metadata": {},
   "outputs": [
    {
     "name": "stdout",
     "output_type": "stream",
     "text": [
      "9.742151518900533\n"
     ]
    }
   ],
   "source": [
    "print(Media(list(n1)))"
   ]
  },
  {
   "cell_type": "markdown",
   "metadata": {},
   "source": [
    "Error porcentual:"
   ]
  },
  {
   "cell_type": "code",
   "execution_count": 65,
   "metadata": {},
   "outputs": [
    {
     "name": "stdout",
     "output_type": "stream",
     "text": [
      "2.57848481099467\n"
     ]
    }
   ],
   "source": [
    "print(100*abs((ex.mean(scale=scale)-Media(n1))/ex.mean(scale=scale)))"
   ]
  },
  {
   "cell_type": "markdown",
   "metadata": {},
   "source": [
    "____________\n",
    "### n = 100\n",
    "\n",
    "Media:"
   ]
  },
  {
   "cell_type": "code",
   "execution_count": 66,
   "metadata": {},
   "outputs": [
    {
     "name": "stdout",
     "output_type": "stream",
     "text": [
      "9.302970782804998\n"
     ]
    }
   ],
   "source": [
    "print(Media(list(n2)))"
   ]
  },
  {
   "cell_type": "markdown",
   "metadata": {},
   "source": [
    "Error porcentual:"
   ]
  },
  {
   "cell_type": "code",
   "execution_count": 67,
   "metadata": {},
   "outputs": [
    {
     "name": "stdout",
     "output_type": "stream",
     "text": [
      "6.970292171950021\n"
     ]
    }
   ],
   "source": [
    "print(100*abs((ex.mean(scale=scale)-Media(n2))/ex.mean(scale=scale)))"
   ]
  },
  {
   "cell_type": "markdown",
   "metadata": {},
   "source": [
    "________\n",
    "### n = 300\n",
    "\n",
    "Media:"
   ]
  },
  {
   "cell_type": "code",
   "execution_count": 68,
   "metadata": {},
   "outputs": [
    {
     "name": "stdout",
     "output_type": "stream",
     "text": [
      "9.214243231479177\n"
     ]
    }
   ],
   "source": [
    "print(Media(list(n3)))"
   ]
  },
  {
   "cell_type": "markdown",
   "metadata": {},
   "source": [
    "Error porcentual:"
   ]
  },
  {
   "cell_type": "code",
   "execution_count": 69,
   "metadata": {},
   "outputs": [
    {
     "name": "stdout",
     "output_type": "stream",
     "text": [
      "7.85756768520823\n"
     ]
    }
   ],
   "source": [
    "print(100*abs((ex.mean(scale=scale)-Media(n3))/ex.mean(scale=scale)))"
   ]
  },
  {
   "cell_type": "markdown",
   "metadata": {},
   "source": [
    "________\n",
    "### n = 10000\n",
    "\n",
    "Media:"
   ]
  },
  {
   "cell_type": "code",
   "execution_count": 70,
   "metadata": {},
   "outputs": [
    {
     "name": "stdout",
     "output_type": "stream",
     "text": [
      "10.099316350431872\n"
     ]
    }
   ],
   "source": [
    "print(Media(list(n4)))"
   ]
  },
  {
   "cell_type": "markdown",
   "metadata": {},
   "source": [
    "Error porcentual:"
   ]
  },
  {
   "cell_type": "code",
   "execution_count": 71,
   "metadata": {},
   "outputs": [
    {
     "name": "stdout",
     "output_type": "stream",
     "text": [
      "0.9931635043187192\n"
     ]
    }
   ],
   "source": [
    "print(100*abs((ex.mean(scale=scale)-Media(n4))/ex.mean(scale=scale)))"
   ]
  },
  {
   "cell_type": "markdown",
   "metadata": {},
   "source": [
    "______________\n",
    "**Análisis y Respuesta**\n",
    "\n",
    "Se evidencia una diferencia entre las 4 medias empíricas y el valor teórico, de las cuales la generada con _n = 10000_   presenta el menor error porcentual, de aproximadamente _0.993 %_. El mayor error lo presenta la distribución de _n = 300_ con un error porcentual aproximado de _7.858 %_\n",
    "\n",
    "Esto se debe principalmente a la magnitud de la muestra, pues entre más cercana al $\\infty$ es la cantidad de la muestra estudiada, más cerca se estará del valor teórico. Y al contrario, entre más cercana a $0$ sea el tamaño de la muestra, en general, más alejado se estará del valor teórico. En otra palabras, para un **_n_** cercano a $0$ no es probable obtener los resultados esperados, pero para un **_n_** cercano al $\\infty$ es altamente probable obtener los valores teóricos."
   ]
  },
  {
   "cell_type": "markdown",
   "metadata": {},
   "source": [
    "______\n",
    ">d) Genere **un** gráfico de 4 boxplot (1 de cada distribución) y compárelos. Comente lo que observa y concluya respecto a la ley de los grandes números."
   ]
  },
  {
   "cell_type": "markdown",
   "metadata": {},
   "source": [
    "Desarrollo\n",
    "---------------\n",
    "\n",
    "Boxplot generado con los datos utilizados anteriormente."
   ]
  },
  {
   "cell_type": "code",
   "execution_count": 72,
   "metadata": {},
   "outputs": [
    {
     "data": {
      "image/png": "[encoded data removed]",
      "text/plain": [
       "<Figure size 432x288 with 1 Axes>"
      ]
     },
     "metadata": {
      "needs_background": "light"
     },
     "output_type": "display_data"
    }
   ],
   "source": [
    "plt.boxplot([n1,n2,n3,n4],labels=['5','100','300','10000'])\n",
    "plt.ylim(-1,35)\n",
    "plt.xlabel('n')\n",
    "plt.ylabel('minutos')\n",
    "plt.show()"
   ]
  },
  {
   "cell_type": "markdown",
   "metadata": {},
   "source": [
    "**Análisis y Respuesta**\n",
    "\n",
    "Se aprecia, en el gráfico presentado, que el *50%* de los datos generados con un **_n_** igual 100, 300 y 10000 está contenido en el *50%* de los datos generadosu un un **_n_** igual a 5, indicando que esta ultima es mucho más dispersa que las demás, ya que su rango intercuartilico es mayor a los demás.\n",
    "\n",
    "Los 4 boxplot presentan un sesgo positivo, lo que es característico en una distribución exponencial, indicando así, que los datos generados son una representación correcta de este tipo de distribución. Este sesgo es más evidente cuanto mayor es la cantidad de datos, pues a medida que aumenta el **_n_** hay más presencia de outliers sesgando aun más la muestra.\n",
    "\n",
    "A pesar de la amplia diferencia, entre la cantidad de datos, de las 4 distribuciones generadas, todas presentan una mediana entre los *5* minutos y los *7* minutos, indicando que a pesar de la cantidad de datos esta caracterisitica on varía demasiado y que la mitad de los estudiantes no espeara más de *7* minutos en la fila del comedor. De igual forma, más del *75%* de los estudiantes, en las cuatro distribuciones, espera menos de *15* minutos en la fila."
   ]
  },
  {
   "cell_type": "markdown",
   "metadata": {},
   "source": [
    "En resumen, en consecuencia a lo encontrado empiricamente en los incisos anteriores y a lo estipulado teóricamente en el inciso _a)_, se comprueba la Ley de los Grandes Números, pues los resultados más cercanos a los teóricos son aquellos calculados con un **_n_** igual a 10000, el cual es el **_n_**, de los trabajados, más cercano a $\\infty$. Esto nos sirve para obtener resultados acertados sin conocer los datos teóricos, basta con estudiar una muestra lo más cercana a $\\infty$ posible y así aumentará la certidumbre de los calculos."
   ]
  }
 ],
 "metadata": {
  "kernelspec": {
   "display_name": "Python 3",
   "language": "python",
   "name": "python3"
  },
  "language_info": {
   "codemirror_mode": {
    "name": "ipython",
    "version": 3
   },
   "file_extension": ".py",
   "mimetype": "text/x-python",
   "name": "python",
   "nbconvert_exporter": "python",
   "pygments_lexer": "ipython3",
   "version": "3.8.1"
  }
 },
 "nbformat": 4,
 "nbformat_minor": 2
}
